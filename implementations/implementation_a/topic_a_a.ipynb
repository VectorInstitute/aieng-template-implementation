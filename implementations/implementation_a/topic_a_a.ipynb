{
 "cells": [
  {
   "cell_type": "markdown",
   "id": "58f7dc1a-a3e6-4432-a41f-7c72fd8107af",
   "metadata": {},
   "source": [
    "[![Open in Colab](https://colab.research.google.com/assets/colab-badge.svg)](https://colab.research.google.com/github/VectorInstitute/aieng-template-implementation/blob/main/implementations/implementation_a/topic_a_a.ipynb)"
   ]
  },
  {
   "cell_type": "markdown",
   "id": "598a5af2-81bd-43b5-8292-67be8eca7442",
   "metadata": {},
   "source": [
    "# Topic A"
   ]
  },
  {
   "cell_type": "markdown",
   "id": "bb1ff2c3-d990-4ea9-9b43-74fc11d20d95",
   "metadata": {},
   "source": [
    "## Install implementation specific package for a topic"
   ]
  },
  {
   "cell_type": "code",
   "execution_count": null,
   "id": "cbff3b87-1337-4833-9210-3f9452eb177d",
   "metadata": {},
   "outputs": [],
   "source": [
    "from aieng.topic.impl import example_impl"
   ]
  },
  {
   "cell_type": "markdown",
   "id": "91c063d3-f27f-4865-bcc2-7db44caa010a",
   "metadata": {},
   "source": [
    "## Diagrams explaining the specific topic or concept\n",
    "\n",
    "Embed diagrams/images directly in the notebook so that it is standalone and colab runnable. On Jupyterlab, you can drag and drop an image into a markdown cell."
   ]
  },
  {
   "attachments": {},
   "cell_type": "markdown",
   "id": "de5df431-691c-4621-93be-dc86612de3da",
   "metadata": {},
   "source": [
    "![example_image.png](https://github.com/VectorInstitute/aieng-template-implementation/raw/main/implementations/implementation_a/assets/example_image.png)"
   ]
  },
  {
   "cell_type": "markdown",
   "id": "27065a72-4806-4728-bdf7-9ba0fb7b8cb8",
   "metadata": {},
   "source": [
    "## Use example implementation module to showcase how to use it using a dataset/use case"
   ]
  },
  {
   "cell_type": "code",
   "execution_count": null,
   "id": "36de25c4-ff42-49f9-84a0-9c86f91d0658",
   "metadata": {},
   "outputs": [],
   "source": [
    "result = example_impl()\n",
    "print(result)"
   ]
  }
 ],
 "metadata": {
  "kernelspec": {
   "display_name": "Python 3 (ipykernel)",
   "language": "python",
   "name": "python3"
  },
  "language_info": {
   "codemirror_mode": {
    "name": "ipython",
    "version": 3
   },
   "file_extension": ".py",
   "mimetype": "text/x-python",
   "name": "python",
   "nbconvert_exporter": "python",
   "pygments_lexer": "ipython3",
   "version": "3.12.8"
  }
 },
 "nbformat": 4,
 "nbformat_minor": 5
}
